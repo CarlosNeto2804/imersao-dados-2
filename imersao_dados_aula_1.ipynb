{
  "nbformat": 4,
  "nbformat_minor": 0,
  "metadata": {
    "colab": {
      "name": "imersao-dados-aula-1.ipynb",
      "provenance": [],
      "collapsed_sections": [],
      "authorship_tag": "ABX9TyNuTPa9rhgieKR/imL8s3Lp",
      "include_colab_link": true
    },
    "kernelspec": {
      "name": "python3",
      "display_name": "Python 3"
    }
  },
  "cells": [
    {
      "cell_type": "markdown",
      "metadata": {
        "id": "view-in-github",
        "colab_type": "text"
      },
      "source": [
        "<a href=\"https://colab.research.google.com/github/CarlosNeto2804/imersao-dados-2/blob/main/imersao_dados_aula_1.ipynb\" target=\"_parent\"><img src=\"https://colab.research.google.com/assets/colab-badge.svg\" alt=\"Open In Colab\"/></a>"
      ]
    },
    {
      "cell_type": "markdown",
      "metadata": {
        "id": "ivo3owPUWcwc"
      },
      "source": [
        "# Introdução"
      ]
    },
    {
      "cell_type": "code",
      "metadata": {
        "id": "PyObJi5d3sO5",
        "outputId": "888c6cd6-82e9-4a1c-a94a-bb148dba9cd3",
        "colab": {
          "base_uri": "https://localhost:8080/",
          "height": 68
        }
      },
      "source": [
        "import pandas as pd;\n",
        "\n",
        "dados_enem = pd.read_csv('https://github.com/alura-cursos/imersao-dados-2-2020/blob/master/MICRODADOS_ENEM_2019_SAMPLE_43278.csv?raw=true')\n",
        "\n",
        "# retorna as 5 primeiras linhas da colecao\n",
        "dados_enem.head() \n",
        "\n",
        "# para acessar apenas uma coluna -> dados_enem['nome_da_coluna']\n",
        "dados_enem['SG_UF_RESIDENCIA']\n",
        "\n",
        "# para verificar quais colunas existem no data frame -> dados_enem.colums.values\n",
        "dados_enem.columns.values\n",
        "\n",
        "# acessar mais de um valor no DataFrame data_frame[[\"cabeçalho1\",\"cabeçalho2\"]]\n",
        "dados_enem[[\"SG_UF_RESIDENCIA\",\"Q025\"]]\n",
        "\n",
        "# retornar os valores sem repeticao de uma coluna\n",
        "dados_enem[\"SG_UF_RESIDENCIA\"].unique() "
      ],
      "execution_count": 239,
      "outputs": [
        {
          "output_type": "execute_result",
          "data": {
            "text/plain": [
              "array(['PA', 'RO', 'MT', 'AC', 'AM', 'RR', 'MA', 'PR', 'BA', 'PI', 'CE',\n",
              "       'PE', 'AP', 'TO', 'SC', 'GO', 'MG', 'SP', 'SE', 'RJ', 'PB', 'AL',\n",
              "       'RN', 'ES', 'DF', 'RS', 'MS'], dtype=object)"
            ]
          },
          "metadata": {
            "tags": []
          },
          "execution_count": 239
        }
      ]
    },
    {
      "cell_type": "code",
      "metadata": {
        "id": "zUAZAFfH8BCs",
        "outputId": "9f345e01-582e-4ae1-ae67-e743d9d2e7bb",
        "colab": {
          "base_uri": "https://localhost:8080/",
          "height": 170
        }
      },
      "source": [
        "# soma dos elementos de uma derminada chave\n",
        "# ordena pelo valor\n",
        "#ESTADOS\n",
        "dados_enem[\"SG_UF_RESIDENCIA\"].value_counts()\n",
        "\n",
        "#IDADES\n",
        "dados_enem['NU_IDADE'].value_counts()\n",
        "\n",
        "# ordenacao pelo index\n",
        "dados_enem['NU_IDADE'].value_counts().sort_index()\n",
        "dados_enem['NU_IDADE'].describe()\n"
      ],
      "execution_count": 240,
      "outputs": [
        {
          "output_type": "execute_result",
          "data": {
            "text/plain": [
              "count    127380.000000\n",
              "mean         22.094355\n",
              "std           7.498707\n",
              "min          13.000000\n",
              "25%          18.000000\n",
              "50%          19.000000\n",
              "75%          24.000000\n",
              "max          82.000000\n",
              "Name: NU_IDADE, dtype: float64"
            ]
          },
          "metadata": {
            "tags": []
          },
          "execution_count": 240
        }
      ]
    },
    {
      "cell_type": "markdown",
      "metadata": {
        "id": "HuM0pwRiZqa6"
      },
      "source": [
        "# Continuação"
      ]
    },
    {
      "cell_type": "code",
      "metadata": {
        "id": "BC0AI1bQw11S",
        "outputId": "c38bdc66-47d6-4bff-fe3c-aa1208f67f4f",
        "colab": {
          "base_uri": "https://localhost:8080/",
          "height": 0
        }
      },
      "source": [
        "# visualização em histograma\n",
        "#dados_enem['NU_IDADE'].hist()\n",
        "dados_enem['NU_IDADE'].hist(bins=100,figsize=(11,9),legend=True)"
      ],
      "execution_count": 241,
      "outputs": [
        {
          "output_type": "execute_result",
          "data": {
            "text/plain": [
              "<matplotlib.axes._subplots.AxesSubplot at 0x7f2d95d287b8>"
            ]
          },
          "metadata": {
            "tags": []
          },
          "execution_count": 241
        },
        {
          "output_type": "display_data",
          "data": {
            "image/png": "[encoded data removed]",
            "text/plain": [
              "<Figure size 792x648 with 1 Axes>"
            ]
          },
          "metadata": {
            "tags": [],
            "needs_background": "light"
          }
        }
      ]
    },
    {
      "cell_type": "code",
      "metadata": {
        "id": "9e39iLkRxCgl",
        "outputId": "8974bfef-9e5d-44da-f0b6-6527047549eb",
        "colab": {
          "base_uri": "https://localhost:8080/",
          "height": 0
        }
      },
      "source": [
        "treineiros = dados_enem.query('IN_TREINEIRO == 1')\n",
        "treineiros['NU_IDADE'].value_counts()"
      ],
      "execution_count": 242,
      "outputs": [
        {
          "output_type": "execute_result",
          "data": {
            "text/plain": [
              "16    7142\n",
              "17    4901\n",
              "15    1927\n",
              "18     858\n",
              "19     228\n",
              "20      83\n",
              "14      64\n",
              "21      44\n",
              "22      30\n",
              "23      21\n",
              "24      13\n",
              "26      13\n",
              "29      10\n",
              "27       9\n",
              "25       8\n",
              "28       6\n",
              "38       4\n",
              "40       4\n",
              "31       4\n",
              "30       4\n",
              "42       4\n",
              "34       3\n",
              "36       2\n",
              "39       2\n",
              "32       2\n",
              "46       2\n",
              "44       2\n",
              "35       2\n",
              "45       1\n",
              "41       1\n",
              "33       1\n",
              "62       1\n",
              "48       1\n",
              "51       1\n",
              "37       1\n",
              "47       1\n",
              "55       1\n",
              "Name: NU_IDADE, dtype: int64"
            ]
          },
          "metadata": {
            "tags": []
          },
          "execution_count": 242
        }
      ]
    },
    {
      "cell_type": "code",
      "metadata": {
        "id": "fj5O8Xdezcz2",
        "outputId": "173dfffc-fc4d-4a64-c13c-e61a4f646463",
        "colab": {
          "base_uri": "https://localhost:8080/",
          "height": 0
        }
      },
      "source": [
        "# Notas Redacao\n",
        "dados_enem['NU_NOTA_REDACAO'].hist(bins=20)"
      ],
      "execution_count": 243,
      "outputs": [
        {
          "output_type": "execute_result",
          "data": {
            "text/plain": [
              "<matplotlib.axes._subplots.AxesSubplot at 0x7f2d91d24ba8>"
            ]
          },
          "metadata": {
            "tags": []
          },
          "execution_count": 243
        },
        {
          "output_type": "display_data",
          "data": {
            "image/png": "[encoded data removed]",
            "text/plain": [
              "<Figure size 432x288 with 1 Axes>"
            ]
          },
          "metadata": {
            "tags": [],
            "needs_background": "light"
          }
        }
      ]
    },
    {
      "cell_type": "code",
      "metadata": {
        "id": "hKqbtW9k0sxV",
        "outputId": "609be2dd-c78a-48f0-8d6f-4e9c0577f83e",
        "colab": {
          "base_uri": "https://localhost:8080/",
          "height": 0
        }
      },
      "source": [
        "# analise geral\n",
        "provas = [\"NU_NOTA_CN\",\"NU_NOTA_CH\",\"NU_NOTA_MT\",\"NU_NOTA_LC\",\"NU_NOTA_REDACAO\"]\n",
        "dados_enem[provas].describe()"
      ],
      "execution_count": 244,
      "outputs": [
        {
          "output_type": "execute_result",
          "data": {
            "text/html": [
              "<div>\n",
              "<style scoped>\n",
              "    .dataframe tbody tr th:only-of-type {\n",
              "        vertical-align: middle;\n",
              "    }\n",
              "\n",
              "    .dataframe tbody tr th {\n",
              "        vertical-align: top;\n",
              "    }\n",
              "\n",
              "    .dataframe thead th {\n",
              "        text-align: right;\n",
              "    }\n",
              "</style>\n",
              "<table border=\"1\" class=\"dataframe\">\n",
              "  <thead>\n",
              "    <tr style=\"text-align: right;\">\n",
              "      <th></th>\n",
              "      <th>NU_NOTA_CN</th>\n",
              "      <th>NU_NOTA_CH</th>\n",
              "      <th>NU_NOTA_MT</th>\n",
              "      <th>NU_NOTA_LC</th>\n",
              "      <th>NU_NOTA_REDACAO</th>\n",
              "    </tr>\n",
              "  </thead>\n",
              "  <tbody>\n",
              "    <tr>\n",
              "      <th>count</th>\n",
              "      <td>92758.000000</td>\n",
              "      <td>98043.000000</td>\n",
              "      <td>92758.000000</td>\n",
              "      <td>98043.000000</td>\n",
              "      <td>98043.000000</td>\n",
              "    </tr>\n",
              "    <tr>\n",
              "      <th>mean</th>\n",
              "      <td>477.964015</td>\n",
              "      <td>507.365912</td>\n",
              "      <td>523.555206</td>\n",
              "      <td>520.463928</td>\n",
              "      <td>571.570025</td>\n",
              "    </tr>\n",
              "    <tr>\n",
              "      <th>std</th>\n",
              "      <td>76.296099</td>\n",
              "      <td>82.972839</td>\n",
              "      <td>109.416939</td>\n",
              "      <td>64.556578</td>\n",
              "      <td>188.076455</td>\n",
              "    </tr>\n",
              "    <tr>\n",
              "      <th>min</th>\n",
              "      <td>0.000000</td>\n",
              "      <td>0.000000</td>\n",
              "      <td>0.000000</td>\n",
              "      <td>0.000000</td>\n",
              "      <td>0.000000</td>\n",
              "    </tr>\n",
              "    <tr>\n",
              "      <th>25%</th>\n",
              "      <td>418.000000</td>\n",
              "      <td>447.900000</td>\n",
              "      <td>435.300000</td>\n",
              "      <td>483.700000</td>\n",
              "      <td>480.000000</td>\n",
              "    </tr>\n",
              "    <tr>\n",
              "      <th>50%</th>\n",
              "      <td>470.200000</td>\n",
              "      <td>510.900000</td>\n",
              "      <td>501.600000</td>\n",
              "      <td>526.100000</td>\n",
              "      <td>580.000000</td>\n",
              "    </tr>\n",
              "    <tr>\n",
              "      <th>75%</th>\n",
              "      <td>533.300000</td>\n",
              "      <td>567.100000</td>\n",
              "      <td>598.200000</td>\n",
              "      <td>565.100000</td>\n",
              "      <td>680.000000</td>\n",
              "    </tr>\n",
              "    <tr>\n",
              "      <th>max</th>\n",
              "      <td>797.300000</td>\n",
              "      <td>809.400000</td>\n",
              "      <td>985.000000</td>\n",
              "      <td>801.700000</td>\n",
              "      <td>1000.000000</td>\n",
              "    </tr>\n",
              "  </tbody>\n",
              "</table>\n",
              "</div>"
            ],
            "text/plain": [
              "         NU_NOTA_CN    NU_NOTA_CH    NU_NOTA_MT    NU_NOTA_LC  NU_NOTA_REDACAO\n",
              "count  92758.000000  98043.000000  92758.000000  98043.000000     98043.000000\n",
              "mean     477.964015    507.365912    523.555206    520.463928       571.570025\n",
              "std       76.296099     82.972839    109.416939     64.556578       188.076455\n",
              "min        0.000000      0.000000      0.000000      0.000000         0.000000\n",
              "25%      418.000000    447.900000    435.300000    483.700000       480.000000\n",
              "50%      470.200000    510.900000    501.600000    526.100000       580.000000\n",
              "75%      533.300000    567.100000    598.200000    565.100000       680.000000\n",
              "max      797.300000    809.400000    985.000000    801.700000      1000.000000"
            ]
          },
          "metadata": {
            "tags": []
          },
          "execution_count": 244
        }
      ]
    },
    {
      "cell_type": "markdown",
      "metadata": {
        "id": "VXoVKlG3Bech"
      },
      "source": [
        "# Desafios\n"
      ]
    },
    {
      "cell_type": "markdown",
      "metadata": {
        "id": "ALeb2qJIPxjq"
      },
      "source": [
        "- 01 : Informar a proporção de inscritos por idades"
      ]
    },
    {
      "cell_type": "code",
      "metadata": {
        "id": "pOpAskAMBwt2",
        "outputId": "95d53290-099a-474d-c1ed-4392c799874d",
        "colab": {
          "base_uri": "https://localhost:8080/",
          "height": 221
        }
      },
      "source": [
        "# desafio 1\n",
        "def proporcao(total_itens):\n",
        "    def funcao_calculo(x): \n",
        "      res = x * 100 /  total_itens\n",
        "      return round(res, 6);\n",
        "    return funcao_calculo\n",
        "\n",
        "total = len(dados_enem)\n",
        "inscritos_por_idade = dados_enem['NU_IDADE'].value_counts()\n",
        "inscritos_por_idade.apply(proporcao(total))"
      ],
      "execution_count": 245,
      "outputs": [
        {
          "output_type": "execute_result",
          "data": {
            "text/plain": [
              "18    16.840948\n",
              "17    16.687078\n",
              "19    11.318888\n",
              "20     8.174753\n",
              "16     6.146962\n",
              "        ...    \n",
              "75     0.001570\n",
              "73     0.001570\n",
              "82     0.000785\n",
              "77     0.000785\n",
              "76     0.000785\n",
              "Name: NU_IDADE, Length: 65, dtype: float64"
            ]
          },
          "metadata": {
            "tags": []
          },
          "execution_count": 245
        }
      ]
    },
    {
      "cell_type": "markdown",
      "metadata": {
        "id": "JLTEq9sIJfR8"
      },
      "source": [
        "- 02: Descobrir de quais estados são os inscritos com 13 anos"
      ]
    },
    {
      "cell_type": "code",
      "metadata": {
        "id": "XVRGbSrsJj8X",
        "outputId": "cb527fac-e2a2-4e97-978f-f0a0dfbdb8fa",
        "colab": {
          "base_uri": "https://localhost:8080/",
          "height": 173
        }
      },
      "source": [
        "# desafio 02\n",
        "cabecalhos= ['SG_UF_RESIDENCIA','NU_IDADE']\n",
        "inscritos=dados_enem[cabecalhos]\n",
        "inscritos.query('NU_IDADE==13')\n"
      ],
      "execution_count": 246,
      "outputs": [
        {
          "output_type": "execute_result",
          "data": {
            "text/html": [
              "<div>\n",
              "<style scoped>\n",
              "    .dataframe tbody tr th:only-of-type {\n",
              "        vertical-align: middle;\n",
              "    }\n",
              "\n",
              "    .dataframe tbody tr th {\n",
              "        vertical-align: top;\n",
              "    }\n",
              "\n",
              "    .dataframe thead th {\n",
              "        text-align: right;\n",
              "    }\n",
              "</style>\n",
              "<table border=\"1\" class=\"dataframe\">\n",
              "  <thead>\n",
              "    <tr style=\"text-align: right;\">\n",
              "      <th></th>\n",
              "      <th>SG_UF_RESIDENCIA</th>\n",
              "      <th>NU_IDADE</th>\n",
              "    </tr>\n",
              "  </thead>\n",
              "  <tbody>\n",
              "    <tr>\n",
              "      <th>57359</th>\n",
              "      <td>SP</td>\n",
              "      <td>13</td>\n",
              "    </tr>\n",
              "    <tr>\n",
              "      <th>95630</th>\n",
              "      <td>MT</td>\n",
              "      <td>13</td>\n",
              "    </tr>\n",
              "    <tr>\n",
              "      <th>98197</th>\n",
              "      <td>AP</td>\n",
              "      <td>13</td>\n",
              "    </tr>\n",
              "    <tr>\n",
              "      <th>116501</th>\n",
              "      <td>BA</td>\n",
              "      <td>13</td>\n",
              "    </tr>\n",
              "  </tbody>\n",
              "</table>\n",
              "</div>"
            ],
            "text/plain": [
              "       SG_UF_RESIDENCIA  NU_IDADE\n",
              "57359                SP        13\n",
              "95630                MT        13\n",
              "98197                AP        13\n",
              "116501               BA        13"
            ]
          },
          "metadata": {
            "tags": []
          },
          "execution_count": 246
        }
      ]
    },
    {
      "cell_type": "markdown",
      "metadata": {
        "id": "MuHCjrnVQDkU"
      },
      "source": [
        "- 03: Qual a proporcao dos alunos com 18 anos por estado"
      ]
    },
    {
      "cell_type": "code",
      "metadata": {
        "id": "BrLpHMGnQNHa",
        "outputId": "3661ab05-adca-4b59-bf32-8e2c10c33ef0",
        "colab": {
          "base_uri": "https://localhost:8080/",
          "height": 510
        }
      },
      "source": [
        "# desafio 3\n",
        "cabecalhos = ['SG_UF_RESIDENCIA','NU_IDADE']\n",
        "novo_df = dados_enem[cabecalhos]\n",
        "inscritos = novo_df.query('NU_IDADE==18')\n",
        "total_inscritos = len(inscritos)\n",
        "inscritos.value_counts().apply(proporcao(total_inscritos))\n"
      ],
      "execution_count": 247,
      "outputs": [
        {
          "output_type": "execute_result",
          "data": {
            "text/plain": [
              "SG_UF_RESIDENCIA  NU_IDADE\n",
              "SP                18          16.744360\n",
              "MG                18          11.047921\n",
              "CE                18           7.281372\n",
              "RJ                18           7.234757\n",
              "BA                18           6.927093\n",
              "PE                18           5.216297\n",
              "RS                18           4.973895\n",
              "PR                18           4.377214\n",
              "MA                18           4.153459\n",
              "PA                18           4.125489\n",
              "GO                18           3.724594\n",
              "SC                18           3.253776\n",
              "PB                18           2.302816\n",
              "PI                18           2.195599\n",
              "ES                18           1.957859\n",
              "AM                18           1.948536\n",
              "RN                18           1.892597\n",
              "DF                18           1.813351\n",
              "MT                18           1.706135\n",
              "AL                18           1.622226\n",
              "MS                18           1.258624\n",
              "SE                18           1.062838\n",
              "TO                18           0.918329\n",
              "RO                18           0.825098\n",
              "AP                18           0.606004\n",
              "AC                18           0.592019\n",
              "RR                18           0.237740\n",
              "dtype: float64"
            ]
          },
          "metadata": {
            "tags": []
          },
          "execution_count": 247
        }
      ]
    },
    {
      "cell_type": "markdown",
      "metadata": {
        "id": "RSCwffOkxeBP"
      },
      "source": [
        "- 04: Plotar Histogramas das idades de treineiros e não treineiros"
      ]
    },
    {
      "cell_type": "code",
      "metadata": {
        "id": "HX4pX2itxx48",
        "outputId": "c50e9f75-e7d9-4b2c-ada6-eec52ad94cf4",
        "colab": {
          "base_uri": "https://localhost:8080/",
          "height": 445
        }
      },
      "source": [
        "# desafio 4\n",
        "inscritos_treineiros = dados_enem.query('IN_TREINEIRO == 1')['NU_IDADE'].value_counts();\n",
        "inscritos_treineiros.hist(bins=30,figsize=(10,7),legend=True)"
      ],
      "execution_count": 248,
      "outputs": [
        {
          "output_type": "execute_result",
          "data": {
            "text/plain": [
              "<matplotlib.axes._subplots.AxesSubplot at 0x7f2d91cc2b70>"
            ]
          },
          "metadata": {
            "tags": []
          },
          "execution_count": 248
        },
        {
          "output_type": "display_data",
          "data": {
            "image/png": "[encoded data removed]",
            "text/plain": [
              "<Figure size 720x504 with 1 Axes>"
            ]
          },
          "metadata": {
            "tags": [],
            "needs_background": "light"
          }
        }
      ]
    },
    {
      "cell_type": "code",
      "metadata": {
        "id": "sPP_lOqZ-RLe",
        "outputId": "0e95ea83-4728-486d-9604-4261df74edb3",
        "colab": {
          "base_uri": "https://localhost:8080/",
          "height": 445
        }
      },
      "source": [
        "inscritos_nao_treineiros = dados_enem.query('IN_TREINEIRO == 0')['NU_IDADE'].value_counts();\n",
        "inscritos_nao_treineiros.hist(bins=30,figsize=(10,7),legend=True)"
      ],
      "execution_count": 249,
      "outputs": [
        {
          "output_type": "execute_result",
          "data": {
            "text/plain": [
              "<matplotlib.axes._subplots.AxesSubplot at 0x7f2d91bfebe0>"
            ]
          },
          "metadata": {
            "tags": []
          },
          "execution_count": 249
        },
        {
          "output_type": "display_data",
          "data": {
            "image/png": "[encoded data removed]",
            "text/plain": [
              "<Figure size 720x504 with 1 Axes>"
            ]
          },
          "metadata": {
            "tags": [],
            "needs_background": "light"
          }
        }
      ]
    },
    {
      "cell_type": "markdown",
      "metadata": {
        "id": "cIT77pXk5Jik"
      },
      "source": [
        "- 05: Comparar as distribuições das provas em ingles e espanhol"
      ]
    },
    {
      "cell_type": "code",
      "metadata": {
        "id": "W0vyXbxh5TmI",
        "outputId": "9f154eca-8e08-4587-b64f-cc365c0dfdbf",
        "colab": {
          "base_uri": "https://localhost:8080/",
          "height": 449
        }
      },
      "source": [
        "# desafio 5\n",
        "# TP_LINGUA==0 -> Ingles\n",
        "# TP_LINGUA==1 -> Espanhol\n",
        "dados_enem.query('TP_LINGUA==1')['TP_LINGUA'].hist(bins=20,figsize=(10,7),legend=True)\n",
        "dados_enem.query('TP_LINGUA==0')['TP_LINGUA'].hist(bins=20,figsize=(10,7),legend=True)"
      ],
      "execution_count": 250,
      "outputs": [
        {
          "output_type": "execute_result",
          "data": {
            "text/plain": [
              "<matplotlib.axes._subplots.AxesSubplot at 0x7f2d91b570f0>"
            ]
          },
          "metadata": {
            "tags": []
          },
          "execution_count": 250
        },
        {
          "output_type": "display_data",
          "data": {
            "image/png": "[encoded data removed]",
            "text/plain": [
              "<Figure size 720x504 with 1 Axes>"
            ]
          },
          "metadata": {
            "tags": [],
            "needs_background": "light"
          }
        }
      ]
    }
  ]
}